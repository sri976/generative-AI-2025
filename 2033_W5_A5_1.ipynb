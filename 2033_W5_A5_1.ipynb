{
  "nbformat": 4,
  "nbformat_minor": 0,
  "metadata": {
    "colab": {
      "provenance": [],
      "authorship_tag": "ABX9TyMjv/wgYrVMfL/UDeNBEkgc",
      "include_colab_link": true
    },
    "kernelspec": {
      "name": "python3",
      "display_name": "Python 3"
    },
    "language_info": {
      "name": "python"
    }
  },
  "cells": [
    {
      "cell_type": "markdown",
      "metadata": {
        "id": "view-in-github",
        "colab_type": "text"
      },
      "source": [
        "<a href=\"https://colab.research.google.com/github/sri976/generative-AI-2025/blob/main/2033_W5_A5_1.ipynb\" target=\"_parent\"><img src=\"https://colab.research.google.com/assets/colab-badge.svg\" alt=\"Open In Colab\"/></a>"
      ]
    },
    {
      "cell_type": "code",
      "source": [
        "import numpy as np\n",
        "\n",
        "# Define the activation functions\n",
        "def sigmoid(x):\n",
        "    return 1 / (1 + np.exp(-x))\n",
        "\n",
        "def sigmoid_derivative(x):\n",
        "    return x * (1 - x)\n",
        "\n",
        "# Define the training data\n",
        "X_train = np.array([[0.1, 0.2], [0.2, 0.3], [0.3, 0.4], [0.6, 0.7], [0.7, 0.8], [0.8, 0.9]])\n",
        "y_train = np.array([[0.3432], [0.3490], [0.3548], [0.3720], [0.3776], [0.3832]])\n",
        "\n",
        "# Define the testing data\n",
        "X_test = np.array([[0.4, 0.5], [0.5, 0.6]])\n",
        "y_test = np.array([[0.3606], [0.3663]])\n",
        "\n",
        "# Define the architecture of the ANN\n",
        "input_dim = 2\n",
        "hidden_dim = 2\n",
        "output_dim = 1\n",
        "\n",
        "# Initialize the weights and biases\n",
        "weights1 = np.random.rand(input_dim, hidden_dim)\n",
        "weights2 = np.random.rand(hidden_dim, output_dim)\n",
        "bias1 = np.zeros((1, hidden_dim))\n",
        "bias2 = np.zeros((1, output_dim))\n",
        "\n",
        "# Define the learning rate and the number of epochs\n",
        "learning_rate = 0.1\n",
        "num_epochs = 1000\n",
        "\n",
        "# Train the ANN\n",
        "for epoch in range(num_epochs):\n",
        "    # Forward pass\n",
        "    hidden_layer = sigmoid(np.dot(X_train, weights1) + bias1)\n",
        "    output_layer = np.dot(hidden_layer, weights2) + bias2\n",
        "\n",
        "    # Backward pass\n",
        "    output_error = y_train - output_layer\n",
        "    output_delta = output_error\n",
        "\n",
        "    hidden_error = output_delta.dot(weights2.T)\n",
        "    hidden_delta = hidden_error * sigmoid_derivative(hidden_layer)\n",
        "\n",
        "    # Weight updates\n",
        "    weights2 += learning_rate * hidden_layer.T.dot(output_delta)\n",
        "    weights1 += learning_rate * X_train.T.dot(hidden_delta)\n",
        "    bias2 += learning_rate * np.sum(output_delta, axis=0, keepdims=True)\n",
        "    bias1 += learning_rate * np.sum(hidden_delta, axis=0, keepdims=True)\n",
        "\n",
        "# Calculate the mean squared error\n",
        "mse_train = np.mean((y_train - output_layer) ** 2)\n",
        "mse_test = np.mean((y_test - np.dot(sigmoid(np.dot(X_test, weights1) + bias1), weights2) - bias2) ** 2)\n",
        "\n",
        "print(\"Mean squared error on training data:\", mse_train)\n",
        "print(\"Mean squared error on testing data:\", mse_test)\n",
        "\n",
        "# Deploy the ANN\n",
        "def deploy_ann():\n",
        "    x1 = float(input(\"Enter x1: \"))\n",
        "    x2 = float(input(\"Enter x2: \"))\n",
        "    inputs = np.array([[x1, x2]])\n",
        "    hidden_layer = sigmoid(np.dot(inputs, weights1) + bias1)\n",
        "    output_layer = np.dot(hidden_layer, weights2) + bias2\n",
        "    print(\"Predicted output:\", output_layer[0][0])\n",
        "\n",
        "deploy_ann()"
      ],
      "metadata": {
        "colab": {
          "base_uri": "https://localhost:8080/"
        },
        "id": "ie1Q8MTFGl6V",
        "outputId": "7bf99a33-1eed-42ca-fe91-f149ff0f9711"
      },
      "execution_count": 14,
      "outputs": [
        {
          "output_type": "stream",
          "name": "stdout",
          "text": [
            "Mean squared error on training data: 3.766717877215712e-06\n",
            "Mean squared error on testing data: 5.35832207297309e-07\n",
            "Enter x1: 0.4\n",
            "Enter x2: 0.5\n",
            "Predicted output: 0.3608263811751954\n"
          ]
        }
      ]
    }
  ]
}