{
  "nbformat": 4,
  "nbformat_minor": 0,
  "metadata": {
    "colab": {
      "provenance": [],
      "authorship_tag": "ABX9TyPZNVdqCj5WKEBzySEF8xQQ",
      "include_colab_link": true
    },
    "kernelspec": {
      "name": "python3",
      "display_name": "Python 3"
    },
    "language_info": {
      "name": "python"
    }
  },
  "cells": [
    {
      "cell_type": "markdown",
      "metadata": {
        "id": "view-in-github",
        "colab_type": "text"
      },
      "source": [
        "<a href=\"https://colab.research.google.com/github/sri976/generative-AI-2025/blob/main/2033_W5_A5_3.ipynb\" target=\"_parent\"><img src=\"https://colab.research.google.com/assets/colab-badge.svg\" alt=\"Open In Colab\"/></a>"
      ]
    },
    {
      "cell_type": "code",
      "source": [
        "import numpy as np\n",
        "\n",
        "def sigmoid(x):\n",
        "    return 1 / (1 + np.exp(-x))\n",
        "\n",
        "def sigmoid_derivative(x):\n",
        "    return x * (1 - x)\n",
        "\n",
        "def train_ann(X, y, hidden_neurons=3, learning_rate=0.1, epochs=5000):\n",
        "    input_neurons = X.shape[1]\n",
        "    output_neurons = 1\n",
        "\n",
        "    np.random.seed(42)\n",
        "    weights_input_hidden = np.random.rand(input_neurons, hidden_neurons)\n",
        "    bias_hidden = np.random.rand(hidden_neurons)\n",
        "    weights_hidden_output = np.random.rand(hidden_neurons, output_neurons)\n",
        "    bias_output = np.random.rand(output_neurons)\n",
        "\n",
        "    for epoch in range(epochs):\n",
        "        # Forward pass\n",
        "        hidden_input = np.dot(X, weights_input_hidden) + bias_hidden\n",
        "        hidden_output = sigmoid(hidden_input)\n",
        "        final_input = np.dot(hidden_output, weights_hidden_output) + bias_output\n",
        "        final_output = final_input  # Linear activation function\n",
        "\n",
        "        # Compute loss (Mean Squared Error)\n",
        "        error = y - final_output\n",
        "\n",
        "        # Backpropagation\n",
        "        d_output = error  # Derivative of linear activation is 1\n",
        "        d_weights_hidden_output = np.dot(hidden_output.T, d_output)\n",
        "        d_bias_output = np.sum(d_output, axis=0)\n",
        "\n",
        "        d_hidden = np.dot(d_output, weights_hidden_output.T) * sigmoid_derivative(hidden_output)\n",
        "        d_weights_input_hidden = np.dot(X.T, d_hidden)\n",
        "        d_bias_hidden = np.sum(d_hidden, axis=0)\n",
        "\n",
        "        # Update weights and biases\n",
        "        weights_hidden_output += learning_rate * d_weights_hidden_output\n",
        "        bias_output += learning_rate * d_bias_output\n",
        "        weights_input_hidden += learning_rate * d_weights_input_hidden\n",
        "        bias_hidden += learning_rate * d_bias_hidden\n",
        "\n",
        "    return weights_input_hidden, bias_hidden, weights_hidden_output, bias_output\n",
        "\n",
        "def predict(X, weights_input_hidden, bias_hidden, weights_hidden_output, bias_output):\n",
        "    hidden_input = np.dot(X, weights_input_hidden) + bias_hidden\n",
        "    hidden_output = sigmoid(hidden_input)\n",
        "    final_input = np.dot(hidden_output, weights_hidden_output) + bias_output\n",
        "    return final_input\n",
        "\n",
        "def mse(y_true, y_pred):\n",
        "    return np.mean((y_true - y_pred) ** 2)\n",
        "\n",
        "# Training data\n",
        "X_train = np.array([[1, 2], [2, 3], [5, 6], [6, 7], [7, 8], [8, 9]])\n",
        "y_train = np.array([[0.4140], [0.4611], [0.5501], [0.5656], [0.5765], [0.5840]])\n",
        "\n",
        "# Train the model\n",
        "weights_input_hidden, bias_hidden, weights_hidden_output, bias_output = train_ann(X_train, y_train)\n",
        "\n",
        "# Test data\n",
        "X_test = np.array([[3, 4], [4, 5]])\n",
        "y_test = np.array([[0.4992], [0.5285]])\n",
        "\n",
        "y_train_pred = predict(X_train, weights_input_hidden, bias_hidden, weights_hidden_output, bias_output)\n",
        "y_test_pred = predict(X_test, weights_input_hidden, bias_hidden, weights_hidden_output, bias_output)\n",
        "\n",
        "# Calculate MSE\n",
        "train_mse = mse(y_train, y_train_pred)\n",
        "test_mse = mse(y_test, y_test_pred)\n",
        "\n",
        "print(f\"Training MSE: {train_mse}\")\n",
        "print(f\"Testing MSE: {test_mse}\")\n",
        "\n",
        "# Predict user input\n",
        "def user_prediction():\n",
        "    x1 = float(input(\"Enter x1: \"))\n",
        "    x2 = float(input(\"Enter x2: \"))\n",
        "    user_input = np.array([[x1, x2]])\n",
        "    output = predict(user_input, weights_input_hidden, bias_hidden, weights_hidden_output, bias_output)\n",
        "    print(f\"Predicted Output: {output[0][0]}\")\n",
        "\n",
        "# Call the function to take user input\n",
        "user_prediction()"
      ],
      "metadata": {
        "colab": {
          "base_uri": "https://localhost:8080/"
        },
        "id": "nwuODAF2g0PX",
        "outputId": "c785c489-d412-4962-ad8c-dc15f22a2d3e"
      },
      "execution_count": 4,
      "outputs": [
        {
          "output_type": "stream",
          "name": "stdout",
          "text": [
            "Training MSE: 1.5169525928277401e-05\n",
            "Testing MSE: 2.6430354790339634e-05\n",
            "Enter x1: 0.4\n",
            "Enter x2: 0.5\n",
            "Predicted Output: 0.7410801718198982\n"
          ]
        }
      ]
    }
  ]
}